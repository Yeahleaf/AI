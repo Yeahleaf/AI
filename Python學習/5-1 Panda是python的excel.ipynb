{
 "cells": [
  {
   "cell_type": "code",
   "execution_count": 1,
   "metadata": {},
   "outputs": [],
   "source": [
    "%matplotlib inline\n",
    "import numpy as np\n",
    "import matplotlib.pyplot as plt"
   ]
  },
  {
   "cell_type": "code",
   "execution_count": 2,
   "metadata": {},
   "outputs": [],
   "source": [
    "import pandas as pd"
   ]
  },
  {
   "cell_type": "code",
   "execution_count": 5,
   "metadata": {},
   "outputs": [
    {
     "name": "stdout",
     "output_type": "stream",
     "text": [
      " Volume in drive C is Acer\n",
      " Volume Serial Number is 7A57-8939\n",
      "\n",
      " Directory of C:\\Users\\PC\\Desktop\\AI\\Python??\n",
      "\n",
      "15/04/2020  03:21 PM    <DIR>          .\n",
      "15/04/2020  03:21 PM    <DIR>          ..\n",
      "15/04/2020  03:16 PM    <DIR>          .ipynb_checkpoints\n",
      "16/03/2020  04:22 PM           337,854 123.png\n",
      "15/04/2020  03:21 PM            13,119 123.xlsx\n",
      "28/03/2020  08:40 PM             4,209 2-1 ????.ipynb\n",
      "30/03/2020  02:32 PM             2,684 2-10 in??.ipynb\n",
      "30/03/2020  02:44 PM             1,226 2-11 IF ????.ipynb\n",
      "30/03/2020  03:03 PM             1,697 2-12 ?????.ipynb\n",
      "28/03/2020  08:57 PM             3,566 2-2 ???????.ipynb\n",
      "30/03/2020  10:53 AM             2,606 2-3 ?????.ipynb\n",
      "30/03/2020  11:02 AM             2,939 2-4 ???????.ipynb\n",
      "30/03/2020  11:12 AM             2,187 2-5 ??2.0.ipynb\n",
      "30/03/2020  11:24 AM             4,055 2-6 List???.ipynb\n",
      "30/03/2020  02:11 PM             1,713 2-7 string???(??List???).ipynb\n",
      "30/03/2020  02:20 PM             2,859 2-8 List?????.ipynb\n",
      "30/03/2020  02:29 PM             2,266 2-9 for ??.ipynb\n",
      "02/04/2020  08:22 PM             3,841 3-1 ?????.ipynb\n",
      "03/04/2020  02:55 PM            82,230 3-10 Array ?????.ipynb\n",
      "03/04/2020  03:45 PM            33,581 3-11 Array???.ipynb\n",
      "02/04/2020  08:26 PM             1,780 3-2 ?????,???.ipynb\n",
      "02/04/2020  08:36 PM            18,426 3-3 ?????????.ipynb\n",
      "02/04/2020  08:47 PM             2,089 3-4 ?????list???.ipynb\n",
      "02/04/2020  08:54 PM             2,423 3-5 Array?????.ipynb\n",
      "02/04/2020  09:04 PM             2,685 3-6 ?array???.ipynb\n",
      "02/04/2020  09:19 PM             2,276 3-7 ??????.ipynb\n",
      "03/04/2020  02:30 PM            15,811 3-8 Array ???.ipynb\n",
      "03/04/2020  02:40 PM             6,085 3-9 Array??????.ipynb\n",
      "05/04/2020  03:18 PM             2,446 4-1 ??????.ipynb\n",
      "11/04/2020  01:39 PM             4,500 4-2 ????????.ipynb\n",
      "11/04/2020  02:12 PM             2,737 4-3 ???????.ipynb\n",
      "05/04/2020  03:42 PM             2,339 4-4 ??????.ipynb\n",
      "11/04/2020  01:56 PM            24,751 4-5 ??????.ipynb\n",
      "05/04/2020  08:49 PM             8,769 4-6 ????overfitting.ipynb\n",
      "11/04/2020  02:20 PM             2,111 4-7 ??BMI???.ipynb\n",
      "15/04/2020  03:20 PM             4,781 5-1 Panda?python?excel.ipynb\n",
      "28/03/2020  02:05 PM            18,005 jupyter????.ipynb\n",
      "28/03/2020  03:39 PM            21,405 List ??.ipynb\n",
      "28/03/2020  02:29 PM             2,160 Markdown???jutsu.ipynb\n",
      "26/03/2020  11:18 PM               555 Untitled.ipynb\n",
      "30/03/2020  10:43 AM                72 Untitled1.ipynb\n",
      "05/04/2020  03:43 PM                72 Untitled2.ipynb\n",
      "28/03/2020  03:50 PM             3,884 ???Hello World.ipynb\n",
      "28/03/2020  02:21 PM            29,828 ???.jpg\n",
      "28/03/2020  04:46 PM            52,673 ???_???.ipynb\n",
      "04/04/2020  07:15 PM            30,559 ???_???.ipynb\n",
      "02/04/2020  04:44 PM             8,514 ???_???.ipynb\n",
      "02/04/2020  04:44 PM             8,514 ???_???-Copy1.ipynb\n",
      "11/04/2020  03:23 PM             8,694 ???_???.ipynb\n",
      "28/03/2020  02:34 PM             1,977 ?????.ipynb\n",
      "28/03/2020  04:08 PM             2,357 ?python??.ipynb\n",
      "              48 File(s)        795,910 bytes\n",
      "               3 Dir(s)   3,566,149,632 bytes free\n"
     ]
    }
   ],
   "source": [
    "%ls"
   ]
  },
  {
   "cell_type": "code",
   "execution_count": 8,
   "metadata": {},
   "outputs": [],
   "source": [
    "df = pd.read_excel(\"123.xlsx\")"
   ]
  },
  {
   "cell_type": "code",
   "execution_count": 9,
   "metadata": {},
   "outputs": [
    {
     "data": {
      "text/plain": [
       "<bound method NDFrame.head of      縣市  牛乳總產值\\n（千元台幣）  牛肉總產值\\n（千元台幣）   乳牛數量  2017年底肉牛數量  畜牛用地面積\\n（公頃）\n",
       "0   新北市     117502.880      32420.171    691         605             3\n",
       "1   台北市       4956.965        299.277     34           2             0\n",
       "2   桃園市     461974.797      62723.334   2662         945            28\n",
       "3   台中市     246454.775      43451.531   1629        1317            10\n",
       "4   台南市    2069661.489     625846.666  11850        3935           120\n",
       "5   高雄市     632887.771      96288.631   3616         860            22\n",
       "6   新竹縣     203520.007      27137.016    958         425            13\n",
       "7   苗栗縣     195888.627      23943.639   1191         537             9\n",
       "8   彰化縣    2694993.796     373878.163  14704        2817            90\n",
       "9   南投縣      76767.026       3434.696    452          11             3\n",
       "10  雲林縣    1388168.494     474524.567   7147        3702            54\n",
       "11  嘉義縣     683429.133     114473.033   4376        1060            32\n",
       "12  屏東縣    1864768.812     402308.784  10666        7825            76\n",
       "13  台東縣     116156.593      49194.170    627        1522            20\n",
       "14  花蓮縣     178730.894      62519.391    974        1976            90\n",
       "15  新竹市      27819.861       9271.225    240          44             5\n",
       "16  嘉義市       3994.825       1179.486     36           0             3\n",
       "17  金門縣       6498.299      57492.006    114        5824            34>"
      ]
     },
     "execution_count": 9,
     "metadata": {},
     "output_type": "execute_result"
    }
   ],
   "source": [
    "df.head"
   ]
  },
  {
   "cell_type": "code",
   "execution_count": 10,
   "metadata": {},
   "outputs": [
    {
     "data": {
      "text/plain": [
       "0     新北市\n",
       "1     台北市\n",
       "2     桃園市\n",
       "3     台中市\n",
       "4     台南市\n",
       "5     高雄市\n",
       "6     新竹縣\n",
       "7     苗栗縣\n",
       "8     彰化縣\n",
       "9     南投縣\n",
       "10    雲林縣\n",
       "11    嘉義縣\n",
       "12    屏東縣\n",
       "13    台東縣\n",
       "14    花蓮縣\n",
       "15    新竹市\n",
       "16    嘉義市\n",
       "17    金門縣\n",
       "Name: 縣市, dtype: object"
      ]
     },
     "execution_count": 10,
     "metadata": {},
     "output_type": "execute_result"
    }
   ],
   "source": [
    "df[\"縣市\"]"
   ]
  },
  {
   "cell_type": "code",
   "execution_count": 11,
   "metadata": {},
   "outputs": [
    {
     "data": {
      "text/plain": [
       "0     新北市\n",
       "1     台北市\n",
       "2     桃園市\n",
       "3     台中市\n",
       "4     台南市\n",
       "5     高雄市\n",
       "6     新竹縣\n",
       "7     苗栗縣\n",
       "8     彰化縣\n",
       "9     南投縣\n",
       "10    雲林縣\n",
       "11    嘉義縣\n",
       "12    屏東縣\n",
       "13    台東縣\n",
       "14    花蓮縣\n",
       "15    新竹市\n",
       "16    嘉義市\n",
       "17    金門縣\n",
       "Name: 縣市, dtype: object"
      ]
     },
     "execution_count": 11,
     "metadata": {},
     "output_type": "execute_result"
    }
   ],
   "source": [
    "df.縣市"
   ]
  },
  {
   "cell_type": "code",
   "execution_count": 12,
   "metadata": {},
   "outputs": [],
   "source": [
    "cow = df.乳牛數量.values"
   ]
  },
  {
   "cell_type": "code",
   "execution_count": 13,
   "metadata": {},
   "outputs": [
    {
     "data": {
      "text/plain": [
       "array([  691,    34,  2662,  1629, 11850,  3616,   958,  1191, 14704,\n",
       "         452,  7147,  4376, 10666,   627,   974,   240,    36,   114],\n",
       "      dtype=int64)"
      ]
     },
     "execution_count": 13,
     "metadata": {},
     "output_type": "execute_result"
    }
   ],
   "source": [
    "cow"
   ]
  },
  {
   "cell_type": "code",
   "execution_count": 14,
   "metadata": {},
   "outputs": [],
   "source": [
    "cow = df[\"乳牛數量\"].values"
   ]
  },
  {
   "cell_type": "code",
   "execution_count": 15,
   "metadata": {},
   "outputs": [
    {
     "data": {
      "text/plain": [
       "array([  691,    34,  2662,  1629, 11850,  3616,   958,  1191, 14704,\n",
       "         452,  7147,  4376, 10666,   627,   974,   240,    36,   114],\n",
       "      dtype=int64)"
      ]
     },
     "execution_count": 15,
     "metadata": {},
     "output_type": "execute_result"
    }
   ],
   "source": [
    "cow"
   ]
  },
  {
   "cell_type": "code",
   "execution_count": 16,
   "metadata": {},
   "outputs": [
    {
     "data": {
      "text/plain": [
       "3442.6111111111113"
      ]
     },
     "execution_count": 16,
     "metadata": {},
     "output_type": "execute_result"
    }
   ],
   "source": [
    "cow.mean()"
   ]
  },
  {
   "cell_type": "code",
   "execution_count": 18,
   "metadata": {},
   "outputs": [
    {
     "data": {
      "text/plain": [
       "4438.108945872341"
      ]
     },
     "execution_count": 18,
     "metadata": {},
     "output_type": "execute_result"
    }
   ],
   "source": [
    "cow.std()"
   ]
  },
  {
   "cell_type": "code",
   "execution_count": 20,
   "metadata": {},
   "outputs": [
    {
     "data": {
      "text/plain": [
       "<matplotlib.axes._subplots.AxesSubplot at 0x26a3c3a2ac8>"
      ]
     },
     "execution_count": 20,
     "metadata": {},
     "output_type": "execute_result"
    },
    {
     "data": {
      "image/png": "[encoded data removed]",
      "text/plain": [
       "<Figure size 432x288 with 1 Axes>"
      ]
     },
     "metadata": {
      "needs_background": "light"
     },
     "output_type": "display_data"
    }
   ],
   "source": [
    "df.乳牛數量.plot()"
   ]
  },
  {
   "cell_type": "code",
   "execution_count": 21,
   "metadata": {},
   "outputs": [
    {
     "data": {
      "text/plain": [
       "<matplotlib.axes._subplots.AxesSubplot at 0x26a3bf9eb48>"
      ]
     },
     "execution_count": 21,
     "metadata": {},
     "output_type": "execute_result"
    },
    {
     "data": {
      "image/png": "[encoded data removed]",
      "text/plain": [
       "<Figure size 432x288 with 1 Axes>"
      ]
     },
     "metadata": {
      "needs_background": "light"
     },
     "output_type": "display_data"
    }
   ],
   "source": [
    "df.乳牛數量.hist(bins=15)"
   ]
  },
  {
   "cell_type": "code",
   "execution_count": null,
   "metadata": {},
   "outputs": [],
   "source": []
  }
 ],
 "metadata": {
  "kernelspec": {
   "display_name": "Python 3",
   "language": "python",
   "name": "python3"
  },
  "language_info": {
   "codemirror_mode": {
    "name": "ipython",
    "version": 3
   },
   "file_extension": ".py",
   "mimetype": "text/x-python",
   "name": "python",
   "nbconvert_exporter": "python",
   "pygments_lexer": "ipython3",
   "version": "3.7.6"
  }
 },
 "nbformat": 4,
 "nbformat_minor": 4
}
