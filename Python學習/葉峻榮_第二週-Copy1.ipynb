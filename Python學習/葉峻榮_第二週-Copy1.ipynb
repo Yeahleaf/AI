{
 "cells": [
  {
   "cell_type": "markdown",
   "metadata": {},
   "source": [
    "# 第一題：猜數字遊戲"
   ]
  },
  {
   "cell_type": "code",
   "execution_count": 1,
   "metadata": {},
   "outputs": [
    {
     "name": "stdout",
     "output_type": "stream",
     "text": [
      "Populating the interactive namespace from numpy and matplotlib\n"
     ]
    }
   ],
   "source": [
    "%pylab inline"
   ]
  },
  {
   "cell_type": "code",
   "execution_count": 3,
   "metadata": {},
   "outputs": [
    {
     "name": "stdout",
     "output_type": "stream",
     "text": [
      ">> 20\n",
      "數字太大了\n",
      ">> 15\n",
      "數字太大了\n",
      ">> 10\n",
      "數字太大了\n",
      ">> 5\n",
      "數字太小了\n",
      ">> 8\n",
      "TRUE\n"
     ]
    }
   ],
   "source": [
    "A = randint(1, 101)\n",
    "C = \"FALSE\"\n",
    "\n",
    "while(C == \"FALSE\"):\n",
    "    B = int(input(\">> \"))\n",
    "    if (A == B):\n",
    "        C = \"TRUE\"\n",
    "        print(C)\n",
    "    elif(B > A):\n",
    "        print(\"數字太大了\")\n",
    "    else:\n",
    "        print(\"數字太小了\")"
   ]
  },
  {
   "cell_type": "code",
   "execution_count": 4,
   "metadata": {},
   "outputs": [
    {
     "data": {
      "text/plain": [
       "8"
      ]
     },
     "execution_count": 4,
     "metadata": {},
     "output_type": "execute_result"
    }
   ],
   "source": [
    "A"
   ]
  },
  {
   "cell_type": "markdown",
   "metadata": {},
   "source": [
    "# 第二題：感恩讚歎機器人"
   ]
  },
  {
   "cell_type": "code",
   "execution_count": 17,
   "metadata": {},
   "outputs": [
    {
     "name": "stdout",
     "output_type": "stream",
     "text": [
      ">> 123\n",
      "感恩炎龍，讚歎炎龍\n",
      ">> 隨便打個字\n",
      "感恩炎龍，讚歎炎龍\n",
      ">> 需要這樣嗎，機器人先生\n",
      "感恩炎龍，讚歎炎龍\n",
      ">> 你一定是老師的粉咯？\n",
      "感恩炎龍，讚歎炎龍\n",
      ">> 好啦，其實這樣也不錯\n",
      "感恩炎龍，讚歎炎龍\n",
      ">> bye\n",
      "感恩炎龍，讚歎炎龍\n"
     ]
    }
   ],
   "source": [
    "message = \" \"\n",
    "\n",
    "while (message != \"bye\"):\n",
    "    message = input(\">> \")\n",
    "    print(\"感恩炎龍，讚歎炎龍\")"
   ]
  },
  {
   "cell_type": "markdown",
   "metadata": {},
   "source": [
    "# 第三題：寫一個函數讓字串倒過來排"
   ]
  },
  {
   "cell_type": "code",
   "execution_count": 18,
   "metadata": {},
   "outputs": [],
   "source": [
    "def reverse(string):\n",
    "    return string[-1] + string[-2] + string[-3] + string[-4] + string[-5]"
   ]
  },
  {
   "cell_type": "code",
   "execution_count": 19,
   "metadata": {},
   "outputs": [
    {
     "data": {
      "text/plain": [
       "'olleH'"
      ]
     },
     "execution_count": 19,
     "metadata": {},
     "output_type": "execute_result"
    }
   ],
   "source": [
    "reverse(\"Hello\")"
   ]
  },
  {
   "cell_type": "markdown",
   "metadata": {},
   "source": [
    "# 挑戰題一：天干地支"
   ]
  },
  {
   "cell_type": "code",
   "execution_count": 5,
   "metadata": {},
   "outputs": [
    {
     "name": "stdout",
     "output_type": "stream",
     "text": [
      "2014是甲午年\n",
      "2015是乙未年\n",
      "2016是丙申年\n",
      "2017是丁酉年\n",
      "2018是戊戌年\n",
      "2019是己亥年\n",
      "2020是庚子年\n",
      "2021是辛醜年\n",
      "2022是壬寅年\n",
      "2023是癸卯年\n",
      "2024是甲辰年\n",
      "2025是乙巳年\n",
      "2026是丙午年\n",
      "2027是丁未年\n",
      "2028是戊申年\n",
      "2029是己酉年\n",
      "2030是庚戌年\n",
      "2031是辛亥年\n",
      "2032是壬子年\n",
      "2033是癸醜年\n",
      "2034是甲寅年\n",
      "2035是乙卯年\n",
      "2036是丙辰年\n",
      "2037是丁巳年\n",
      "2038是戊午年\n",
      "2039是己未年\n",
      "2040是庚申年\n",
      "2041是辛酉年\n",
      "2042是壬戌年\n",
      "2043是癸亥年\n",
      "2044是甲子年\n",
      "2045是乙醜年\n",
      "2046是丙寅年\n",
      "2047是丁卯年\n",
      "2048是戊辰年\n",
      "2049是己巳年\n",
      "2050是庚午年\n",
      "2051是辛未年\n",
      "2052是壬申年\n",
      "2053是癸酉年\n",
      "2054是甲戌年\n",
      "2055是乙亥年\n",
      "2056是丙子年\n",
      "2057是丁醜年\n",
      "2058是戊寅年\n",
      "2059是己卯年\n",
      "2060是庚辰年\n",
      "2061是辛巳年\n",
      "2062是壬午年\n",
      "2063是癸未年\n",
      "2064是甲申年\n",
      "2065是乙酉年\n",
      "2066是丙戌年\n",
      "2067是丁亥年\n",
      "2068是戊子年\n",
      "2069是己醜年\n",
      "2070是庚寅年\n",
      "2071是辛卯年\n",
      "2072是壬辰年\n",
      "2073是癸巳年\n"
     ]
    }
   ],
   "source": [
    "A = [\"甲\", \"乙\", \"丙\", \"丁\", \"戊\", \"己\", \"庚\", \"辛\", \"壬\", \"癸\"]\n",
    "B = [\"子\", \"醜\", \"寅\", \"卯\", \"辰\", \"巳\", \"午\", \"未\", \"申\", \"酉\", \"戌\", \"亥\"]\n",
    "i = 0\n",
    "j = 6\n",
    "\n",
    "for a in list(range(2014, 2074)):\n",
    "    print(str(a) + \"是{}{}年\".format(A[i], B[j]))\n",
    "    i = i + 1\n",
    "    j = j + 1\n",
    "    if i==10:\n",
    "        i = 0\n",
    "    if j==12:\n",
    "        j = 0"
   ]
  },
  {
   "cell_type": "code",
   "execution_count": null,
   "metadata": {},
   "outputs": [],
   "source": []
  },
  {
   "cell_type": "code",
   "execution_count": null,
   "metadata": {},
   "outputs": [],
   "source": []
  },
  {
   "cell_type": "markdown",
   "metadata": {},
   "source": [
    "# 挑戰題二"
   ]
  },
  {
   "cell_type": "code",
   "execution_count": 35,
   "metadata": {},
   "outputs": [],
   "source": [
    "def tree(x):\n",
    "    c = 1\n",
    "    for num in list(range(x)):\n",
    "        print(\" \"*(12-num) + \"*\"*c)\n",
    "        c = c + 2"
   ]
  },
  {
   "cell_type": "code",
   "execution_count": 43,
   "metadata": {},
   "outputs": [
    {
     "name": "stdout",
     "output_type": "stream",
     "text": [
      "            *\n",
      "           ***\n",
      "          *****\n",
      "         *******\n",
      "        *********\n",
      "       ***********\n",
      "      *************\n",
      "     ***************\n",
      "    *****************\n",
      "   *******************\n",
      "  *********************\n",
      " ***********************\n",
      "*************************\n"
     ]
    }
   ],
   "source": [
    "tree(13)"
   ]
  },
  {
   "cell_type": "code",
   "execution_count": null,
   "metadata": {},
   "outputs": [],
   "source": []
  },
  {
   "cell_type": "markdown",
   "metadata": {},
   "source": [
    "# 挑戰題三： 自己出！"
   ]
  },
  {
   "cell_type": "markdown",
   "metadata": {},
   "source": [
    "### 午餐要吃什麼好呢？"
   ]
  },
  {
   "cell_type": "code",
   "execution_count": 53,
   "metadata": {},
   "outputs": [
    {
     "name": "stdout",
     "output_type": "stream",
     "text": [
      "星期一午餐吃美香味\n",
      "星期二午餐吃允浩自助餐\n",
      "星期三午餐吃素還真\n",
      "星期四午餐吃美香味\n",
      "星期五午餐吃允浩自助餐\n",
      "星期六午餐吃素還真\n",
      "星期日午餐吃美香味\n"
     ]
    }
   ],
   "source": [
    "F = [\"美香味\", \"允浩自助餐\", \"素還真\"]\n",
    "D = [\"一\", \"二\", \"三\", \"四\", \"五\", \"六\", \"日\"]\n",
    "i = 0\n",
    "j = 0\n",
    "for a in range(1,8):\n",
    "    print(\"星期{}午餐吃{}\".format(D[i], F[j]))\n",
    "    i = i + 1\n",
    "    j = j + 1\n",
    "    if j == 3:\n",
    "          j = 0"
   ]
  },
  {
   "cell_type": "code",
   "execution_count": null,
   "metadata": {},
   "outputs": [],
   "source": []
  }
 ],
 "metadata": {
  "kernelspec": {
   "display_name": "Python 3",
   "language": "python",
   "name": "python3"
  },
  "language_info": {
   "codemirror_mode": {
    "name": "ipython",
    "version": 3
   },
   "file_extension": ".py",
   "mimetype": "text/x-python",
   "name": "python",
   "nbconvert_exporter": "python",
   "pygments_lexer": "ipython3",
   "version": "3.7.6"
  }
 },
 "nbformat": 4,
 "nbformat_minor": 4
}
