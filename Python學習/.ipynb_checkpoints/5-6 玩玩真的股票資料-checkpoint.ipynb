{
 "cells": [
  {
   "cell_type": "code",
   "execution_count": 1,
   "metadata": {},
   "outputs": [],
   "source": [
    "%matplotlib inline\n",
    "import numpy as np\n",
    "import matplotlib.pyplot as plt\n",
    "import pandas as pd"
   ]
  },
  {
   "cell_type": "code",
   "execution_count": 2,
   "metadata": {},
   "outputs": [],
   "source": [
    "import pandas_datareader.data as web"
   ]
  },
  {
   "cell_type": "code",
   "execution_count": 3,
   "metadata": {},
   "outputs": [],
   "source": [
    "df = web.DataReader(\"AAPL\", \"yahoo\", start=\"2012-9-1\", end=\"2017-8-31\")"
   ]
  },
  {
   "cell_type": "code",
   "execution_count": 5,
   "metadata": {},
   "outputs": [
    {
     "data": {
      "text/html": [
       "<div>\n",
       "<style scoped>\n",
       "    .dataframe tbody tr th:only-of-type {\n",
       "        vertical-align: middle;\n",
       "    }\n",
       "\n",
       "    .dataframe tbody tr th {\n",
       "        vertical-align: top;\n",
       "    }\n",
       "\n",
       "    .dataframe thead th {\n",
       "        text-align: right;\n",
       "    }\n",
       "</style>\n",
       "<table border=\"1\" class=\"dataframe\">\n",
       "  <thead>\n",
       "    <tr style=\"text-align: right;\">\n",
       "      <th></th>\n",
       "      <th>High</th>\n",
       "      <th>Low</th>\n",
       "      <th>Open</th>\n",
       "      <th>Close</th>\n",
       "      <th>Volume</th>\n",
       "      <th>Adj Close</th>\n",
       "    </tr>\n",
       "    <tr>\n",
       "      <th>Date</th>\n",
       "      <th></th>\n",
       "      <th></th>\n",
       "      <th></th>\n",
       "      <th></th>\n",
       "      <th></th>\n",
       "      <th></th>\n",
       "    </tr>\n",
       "  </thead>\n",
       "  <tbody>\n",
       "    <tr>\n",
       "      <th>2012-08-31</th>\n",
       "      <td>95.514282</td>\n",
       "      <td>93.892860</td>\n",
       "      <td>95.321426</td>\n",
       "      <td>95.034286</td>\n",
       "      <td>84580300.0</td>\n",
       "      <td>82.847824</td>\n",
       "    </tr>\n",
       "    <tr>\n",
       "      <th>2012-09-04</th>\n",
       "      <td>96.448570</td>\n",
       "      <td>94.928574</td>\n",
       "      <td>95.108574</td>\n",
       "      <td>96.424286</td>\n",
       "      <td>91973000.0</td>\n",
       "      <td>84.059593</td>\n",
       "    </tr>\n",
       "    <tr>\n",
       "      <th>2012-09-05</th>\n",
       "      <td>96.621429</td>\n",
       "      <td>95.657143</td>\n",
       "      <td>96.510002</td>\n",
       "      <td>95.747147</td>\n",
       "      <td>84093800.0</td>\n",
       "      <td>83.469276</td>\n",
       "    </tr>\n",
       "    <tr>\n",
       "      <th>2012-09-06</th>\n",
       "      <td>96.898575</td>\n",
       "      <td>95.828575</td>\n",
       "      <td>96.167145</td>\n",
       "      <td>96.610001</td>\n",
       "      <td>97799100.0</td>\n",
       "      <td>84.221489</td>\n",
       "    </tr>\n",
       "    <tr>\n",
       "      <th>2012-09-07</th>\n",
       "      <td>97.497147</td>\n",
       "      <td>96.538574</td>\n",
       "      <td>96.864288</td>\n",
       "      <td>97.205711</td>\n",
       "      <td>82416600.0</td>\n",
       "      <td>84.740822</td>\n",
       "    </tr>\n",
       "    <tr>\n",
       "      <th>2012-09-10</th>\n",
       "      <td>97.612854</td>\n",
       "      <td>94.585716</td>\n",
       "      <td>97.207146</td>\n",
       "      <td>94.677139</td>\n",
       "      <td>121999500.0</td>\n",
       "      <td>82.536484</td>\n",
       "    </tr>\n",
       "    <tr>\n",
       "      <th>2012-09-11</th>\n",
       "      <td>95.728569</td>\n",
       "      <td>93.785713</td>\n",
       "      <td>95.015717</td>\n",
       "      <td>94.370003</td>\n",
       "      <td>125995800.0</td>\n",
       "      <td>82.268730</td>\n",
       "    </tr>\n",
       "    <tr>\n",
       "      <th>2012-09-12</th>\n",
       "      <td>95.699997</td>\n",
       "      <td>93.714287</td>\n",
       "      <td>95.264282</td>\n",
       "      <td>95.684288</td>\n",
       "      <td>178058300.0</td>\n",
       "      <td>83.414490</td>\n",
       "    </tr>\n",
       "    <tr>\n",
       "      <th>2012-09-13</th>\n",
       "      <td>97.928574</td>\n",
       "      <td>96.395714</td>\n",
       "      <td>96.767143</td>\n",
       "      <td>97.568573</td>\n",
       "      <td>149590000.0</td>\n",
       "      <td>85.057144</td>\n",
       "    </tr>\n",
       "    <tr>\n",
       "      <th>2012-09-14</th>\n",
       "      <td>99.568573</td>\n",
       "      <td>98.269997</td>\n",
       "      <td>98.565712</td>\n",
       "      <td>98.754288</td>\n",
       "      <td>150118500.0</td>\n",
       "      <td>86.090805</td>\n",
       "    </tr>\n",
       "  </tbody>\n",
       "</table>\n",
       "</div>"
      ],
      "text/plain": [
       "                 High        Low       Open      Close       Volume  Adj Close\n",
       "Date                                                                          \n",
       "2012-08-31  95.514282  93.892860  95.321426  95.034286   84580300.0  82.847824\n",
       "2012-09-04  96.448570  94.928574  95.108574  96.424286   91973000.0  84.059593\n",
       "2012-09-05  96.621429  95.657143  96.510002  95.747147   84093800.0  83.469276\n",
       "2012-09-06  96.898575  95.828575  96.167145  96.610001   97799100.0  84.221489\n",
       "2012-09-07  97.497147  96.538574  96.864288  97.205711   82416600.0  84.740822\n",
       "2012-09-10  97.612854  94.585716  97.207146  94.677139  121999500.0  82.536484\n",
       "2012-09-11  95.728569  93.785713  95.015717  94.370003  125995800.0  82.268730\n",
       "2012-09-12  95.699997  93.714287  95.264282  95.684288  178058300.0  83.414490\n",
       "2012-09-13  97.928574  96.395714  96.767143  97.568573  149590000.0  85.057144\n",
       "2012-09-14  99.568573  98.269997  98.565712  98.754288  150118500.0  86.090805"
      ]
     },
     "execution_count": 5,
     "metadata": {},
     "output_type": "execute_result"
    }
   ],
   "source": [
    "df.head(10)"
   ]
  },
  {
   "cell_type": "code",
   "execution_count": 6,
   "metadata": {},
   "outputs": [],
   "source": [
    "P = df[\"Adj Close\"]"
   ]
  },
  {
   "cell_type": "code",
   "execution_count": 7,
   "metadata": {},
   "outputs": [
    {
     "data": {
      "text/plain": [
       "Date\n",
       "2012-08-31     82.847824\n",
       "2012-09-04     84.059593\n",
       "2012-09-05     83.469276\n",
       "2012-09-06     84.221489\n",
       "2012-09-07     84.740822\n",
       "                 ...    \n",
       "2017-08-25    154.242294\n",
       "2017-08-28    155.795715\n",
       "2017-08-29    157.185104\n",
       "2017-08-30    157.609665\n",
       "2017-08-31    158.236786\n",
       "Name: Adj Close, Length: 1258, dtype: float64"
      ]
     },
     "execution_count": 7,
     "metadata": {},
     "output_type": "execute_result"
    }
   ],
   "source": [
    "P"
   ]
  },
  {
   "cell_type": "code",
   "execution_count": 8,
   "metadata": {},
   "outputs": [
    {
     "data": {
      "text/plain": [
       "<matplotlib.axes._subplots.AxesSubplot at 0x21ef8694d88>"
      ]
     },
     "execution_count": 8,
     "metadata": {},
     "output_type": "execute_result"
    },
    {
     "data": {
      "image/png": "[encoded data removed]",
      "text/plain": [
       "<Figure size 432x288 with 1 Axes>"
      ]
     },
     "metadata": {
      "needs_background": "light"
     },
     "output_type": "display_data"
    }
   ],
   "source": [
    "P.plot()"
   ]
  },
  {
   "cell_type": "code",
   "execution_count": 9,
   "metadata": {},
   "outputs": [
    {
     "data": {
      "text/plain": [
       "Date\n",
       "2012-08-31         NaN\n",
       "2012-09-04    1.211769\n",
       "2012-09-05   -0.590317\n",
       "2012-09-06    0.752213\n",
       "2012-09-07    0.519333\n",
       "                ...   \n",
       "2017-08-25    0.569275\n",
       "2017-08-28    1.553421\n",
       "2017-08-29    1.389389\n",
       "2017-08-30    0.424561\n",
       "2017-08-31    0.627121\n",
       "Name: Adj Close, Length: 1258, dtype: float64"
      ]
     },
     "execution_count": 9,
     "metadata": {},
     "output_type": "execute_result"
    }
   ],
   "source": [
    "P.diff()"
   ]
  },
  {
   "cell_type": "code",
   "execution_count": 14,
   "metadata": {},
   "outputs": [],
   "source": [
    "r = P.diff()/P * 100"
   ]
  },
  {
   "cell_type": "code",
   "execution_count": 15,
   "metadata": {},
   "outputs": [
    {
     "data": {
      "text/plain": [
       "Date\n",
       "2012-08-31         NaN\n",
       "2012-09-04    1.441560\n",
       "2012-09-05   -0.707226\n",
       "2012-09-06    0.893136\n",
       "2012-09-07    0.612849\n",
       "2012-09-10   -2.670744\n",
       "2012-09-11   -0.325462\n",
       "2012-09-12    1.373574\n",
       "2012-09-13    1.931236\n",
       "2012-09-14    1.200664\n",
       "Name: Adj Close, dtype: float64"
      ]
     },
     "execution_count": 15,
     "metadata": {},
     "output_type": "execute_result"
    }
   ],
   "source": [
    "r.head(10)"
   ]
  },
  {
   "cell_type": "code",
   "execution_count": 19,
   "metadata": {},
   "outputs": [
    {
     "data": {
      "text/plain": [
       "<matplotlib.axes._subplots.AxesSubplot at 0x21ef8f4c248>"
      ]
     },
     "execution_count": 19,
     "metadata": {},
     "output_type": "execute_result"
    },
    {
     "data": {
      "image/png": "[encoded data removed]",
      "text/plain": [
       "<Figure size 432x288 with 1 Axes>"
      ]
     },
     "metadata": {
      "needs_background": "light"
     },
     "output_type": "display_data"
    }
   ],
   "source": [
    "P.rolling(window=20).mean().plot()\n",
    "P.rolling(window=60).mean().plot()\n",
    "P.plot()"
   ]
  },
  {
   "cell_type": "code",
   "execution_count": 20,
   "metadata": {},
   "outputs": [
    {
     "data": {
      "text/plain": [
       "<matplotlib.axes._subplots.AxesSubplot at 0x21ef8feeec8>"
      ]
     },
     "execution_count": 20,
     "metadata": {},
     "output_type": "execute_result"
    },
    {
     "data": {
      "image/png": "[encoded data removed]",
      "text/plain": [
       "<Figure size 432x288 with 1 Axes>"
      ]
     },
     "metadata": {
      "needs_background": "light"
     },
     "output_type": "display_data"
    }
   ],
   "source": [
    "P.rolling(window=20).mean().plot()"
   ]
  },
  {
   "cell_type": "code",
   "execution_count": null,
   "metadata": {},
   "outputs": [],
   "source": []
  }
 ],
 "metadata": {
  "kernelspec": {
   "display_name": "Python 3",
   "language": "python",
   "name": "python3"
  },
  "language_info": {
   "codemirror_mode": {
    "name": "ipython",
    "version": 3
   },
   "file_extension": ".py",
   "mimetype": "text/x-python",
   "name": "python",
   "nbconvert_exporter": "python",
   "pygments_lexer": "ipython3",
   "version": "3.7.6"
  }
 },
 "nbformat": 4,
 "nbformat_minor": 4
}
