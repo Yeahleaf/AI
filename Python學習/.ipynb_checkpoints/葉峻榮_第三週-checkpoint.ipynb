{
 "cells": [
  {
   "cell_type": "markdown",
   "metadata": {},
   "source": [
    "# 第一題：算成績"
   ]
  },
  {
   "cell_type": "code",
   "execution_count": 45,
   "metadata": {},
   "outputs": [],
   "source": [
    "%matplotlib inline\n",
    "import numpy as np\n",
    "import matplotlib.pyplot as plt"
   ]
  },
  {
   "cell_type": "code",
   "execution_count": 46,
   "metadata": {},
   "outputs": [],
   "source": [
    "A = np.random.randn(50)\n",
    "B = np.random.randn(50)\n",
    "C = np.random.randn(50)"
   ]
  },
  {
   "cell_type": "code",
   "execution_count": 47,
   "metadata": {},
   "outputs": [],
   "source": [
    "A = 20*A + 60\n",
    "B = 20*B + 60\n",
    "C = 20*C + 60"
   ]
  },
  {
   "cell_type": "code",
   "execution_count": 48,
   "metadata": {},
   "outputs": [
    {
     "data": {
      "text/plain": [
       "array([[[ 17.61662122,  38.36022136,  31.9190492 ,  62.58763982,\n",
       "           8.77417627],\n",
       "        [ 44.60569611,  81.06467447,  72.46132626,  59.41998363,\n",
       "          79.81479034],\n",
       "        [ 86.54640169,  53.86803599,  52.52279431,  39.06347872,\n",
       "          82.08948787],\n",
       "        [ 35.72592489,  77.27778433,  64.153303  ,  20.21955325,\n",
       "          54.74938256],\n",
       "        [ 34.3579789 ,  41.62404389,  32.21286322,  41.45878212,\n",
       "          92.24380805],\n",
       "        [ 52.31163042,  61.49841535,  83.54498382,  72.2086397 ,\n",
       "          58.20958488],\n",
       "        [ 61.51601464,  84.90590372,  54.10047233,  43.79110147,\n",
       "          72.37674649],\n",
       "        [ 35.17659183,  20.40363947,  53.80931675,  84.10585804,\n",
       "          83.01424048],\n",
       "        [ 69.31433754,  61.38863149,  52.59399713,  39.6099904 ,\n",
       "          51.32162962],\n",
       "        [ 77.71247282,  66.63301275,  78.72661272,  93.47859247,\n",
       "          27.87491623]],\n",
       "\n",
       "       [[ 60.43843935,  60.40491601,  40.71797423,  72.80331059,\n",
       "          98.79386273],\n",
       "        [ 70.52856774,  67.48934952, 101.70871006,  76.20003971,\n",
       "          41.97340498],\n",
       "        [ 62.91279155,  87.1823202 ,  57.8788094 ,  78.02588142,\n",
       "          78.49532523],\n",
       "        [ 49.01238718,  68.98254394,  44.76703505,  43.27320796,\n",
       "          62.74437186],\n",
       "        [ 58.61381195,  52.85943759,  61.75707011,  62.2379527 ,\n",
       "          69.85758462],\n",
       "        [ 84.95616531,  69.19376761,  52.16768396,  60.58687243,\n",
       "          71.41656048],\n",
       "        [104.15308387,  93.18806174,  61.94440246,  54.63888225,\n",
       "          33.961001  ],\n",
       "        [ 60.32285518, 102.99936219,  68.12220475,  29.87377013,\n",
       "          72.25440946],\n",
       "        [ 41.70284216,  62.78436419,  56.19823024,  62.95227214,\n",
       "          37.01486795],\n",
       "        [ 16.21210718,  94.36938029,  15.51919168,  92.93310421,\n",
       "          81.36888899]],\n",
       "\n",
       "       [[ 64.89666032,  31.35743815,  42.14071748,  74.69747023,\n",
       "          38.39697894],\n",
       "        [ 18.55912071,  72.20392947,  72.70026973,  79.37820615,\n",
       "          55.04711828],\n",
       "        [ 69.96546847,  58.40698886,  53.54312346,  70.22150251,\n",
       "          40.27616601],\n",
       "        [ 45.7196986 ,  31.84318996,  35.24009419,  71.60998307,\n",
       "          98.73765133],\n",
       "        [ 64.07095253,  58.64971431,  77.46008019,  97.41002086,\n",
       "          70.01858859],\n",
       "        [ 25.91693407,  51.90185927,  56.59773267,  66.10073123,\n",
       "          60.42300471],\n",
       "        [ 68.3818915 ,  60.89184163,  82.27574805,  73.43929439,\n",
       "          62.08425605],\n",
       "        [ 39.42424036,  41.9657481 ,  76.62707327,  58.04408584,\n",
       "          63.15700573],\n",
       "        [ 41.11807624,  60.36165084,  60.83085874,  59.54581671,\n",
       "          98.66854103],\n",
       "        [ 81.25651438,  74.12475086,  41.96104942,  63.03881233,\n",
       "          65.54080279]]])"
      ]
     },
     "execution_count": 48,
     "metadata": {},
     "output_type": "execute_result"
    }
   ],
   "source": [
    "grades = np.concatenate((A, B, C))\n",
    "grades.shape = (3, 10, 5)\n",
    "grades"
   ]
  },
  {
   "cell_type": "code",
   "execution_count": 5,
   "metadata": {},
   "outputs": [],
   "source": [
    "weights = np.array([0.25, 0.25, 0.25, 0.15, 0.10])"
   ]
  },
  {
   "cell_type": "code",
   "execution_count": 6,
   "metadata": {},
   "outputs": [
    {
     "data": {
      "text/plain": [
       "array([[49.2383612 , 59.24811632, 65.11387298, 73.89721579, 48.52513326,\n",
       "        59.41312961, 58.88361228, 51.91662191, 52.48320847, 60.93823551],\n",
       "       [53.90172993, 64.48276004, 54.14542352, 48.01895862, 68.66230444,\n",
       "        60.25929241, 50.4723845 , 60.39045594, 59.85896907, 47.37554743],\n",
       "       [64.49419368, 66.0419246 , 72.54462347, 64.03043003, 67.31707827,\n",
       "        64.28158996, 57.14382539, 70.47492618, 68.0028692 , 44.42230103]])"
      ]
     },
     "execution_count": 6,
     "metadata": {},
     "output_type": "execute_result"
    }
   ],
   "source": [
    "average_result_students = np.dot(grades, weights)\n",
    "average_result_students"
   ]
  },
  {
   "cell_type": "code",
   "execution_count": 7,
   "metadata": {},
   "outputs": [
    {
     "data": {
      "text/plain": [
       "array([57.96575073, 56.75678259, 63.87537618])"
      ]
     },
     "execution_count": 7,
     "metadata": {},
     "output_type": "execute_result"
    }
   ],
   "source": [
    "average_result_class = np.mean(average_result_students, axis = 1)\n",
    "average_result_class"
   ]
  },
  {
   "cell_type": "code",
   "execution_count": null,
   "metadata": {},
   "outputs": [],
   "source": []
  },
  {
   "cell_type": "markdown",
   "metadata": {},
   "source": [
    "# 第二題 "
   ]
  },
  {
   "cell_type": "markdown",
   "metadata": {},
   "source": [
    "### 向日葵班有40位學生，學期結束後，老師希望知道班上的期末成績相關資訊，作為下個學期教學的參考。\n",
    " \n",
    "### 請隨機產生40筆0~100的數字作為向日葵班的成績分佈，接著列出最高分、最低分、及格人數(>=60)、平均數、標準差，並且以10分作為一個區間，使用圖表畫出各個區間的人數。"
   ]
  },
  {
   "cell_type": "code",
   "execution_count": 24,
   "metadata": {},
   "outputs": [
    {
     "name": "stdout",
     "output_type": "stream",
     "text": [
      "[13 20  9  3 60 39 24 97 79 19  2 24 30 54 38  4 91 24 14 59 16 34 74 37\n",
      " 11 20 87 57  3 11 50 11 87 15 43 82  6 64 79 77]\n",
      "97\n",
      "2\n",
      "11\n",
      "39.175\n",
      "29.31969261435051\n"
     ]
    }
   ],
   "source": [
    "A = np.random.randint(0, 101, 40)\n",
    "print(A)\n",
    "print(np.amax(A))\n",
    "print(np.amin(A))\n",
    "print(np.sum(A>=60))\n",
    "print(np.mean(A))\n",
    "print(np.std(A))"
   ]
  },
  {
   "cell_type": "code",
   "execution_count": 21,
   "metadata": {},
   "outputs": [
    {
     "data": {
      "text/plain": [
       "(array([4., 2., 5., 6., 8., 4., 4., 2., 3., 2.]),\n",
       " array([  0.,  10.,  20.,  30.,  40.,  50.,  60.,  70.,  80.,  90., 100.]),\n",
       " <a list of 10 Patch objects>)"
      ]
     },
     "execution_count": 21,
     "metadata": {},
     "output_type": "execute_result"
    },
    {
     "data": {
      "image/png": "[encoded data removed]",
      "text/plain": [
       "<Figure size 432x288 with 1 Axes>"
      ]
     },
     "metadata": {
      "needs_background": "light"
     },
     "output_type": "display_data"
    }
   ],
   "source": [
    "plt.hist(A, bins=10, range=[0,100])"
   ]
  },
  {
   "cell_type": "code",
   "execution_count": null,
   "metadata": {},
   "outputs": [],
   "source": []
  },
  {
   "cell_type": "markdown",
   "metadata": {},
   "source": [
    "# 挑戰題一"
   ]
  },
  {
   "cell_type": "code",
   "execution_count": 77,
   "metadata": {},
   "outputs": [],
   "source": [
    "all_grades = np.random.randint(0, 101, 270)\n",
    "all_grades.shape = (3, 30, 3)"
   ]
  },
  {
   "cell_type": "code",
   "execution_count": 78,
   "metadata": {},
   "outputs": [
    {
     "data": {
      "text/plain": [
       "array([[[ 90,  19,  36],\n",
       "        [  4,  97,  26],\n",
       "        [ 30,  18,  75],\n",
       "        [ 40,  71,  50],\n",
       "        [ 20,  39,  49],\n",
       "        [ 26,  99,   2],\n",
       "        [ 69,  69,  57],\n",
       "        [ 62,  17,  47],\n",
       "        [ 30,  87,  57],\n",
       "        [ 43, 100,   7],\n",
       "        [ 52,  73,  35],\n",
       "        [ 39,   3,   2],\n",
       "        [ 88,   4,  61],\n",
       "        [ 11,  74,   6],\n",
       "        [ 61,  87,  89],\n",
       "        [ 26,   3,  86],\n",
       "        [ 58,  66,  68],\n",
       "        [  4,   3,  39],\n",
       "        [ 21,  28,  56],\n",
       "        [ 44,  91,  83],\n",
       "        [ 71,  43,  77],\n",
       "        [ 56,  12,  66],\n",
       "        [ 43,  32,   1],\n",
       "        [ 57,  45,  50],\n",
       "        [ 41,  95,  88],\n",
       "        [ 49,  78,  73],\n",
       "        [ 84,  45,  71],\n",
       "        [ 37,  16,   3],\n",
       "        [ 46,  44,  90],\n",
       "        [ 28,  13,  35]],\n",
       "\n",
       "       [[  7,  81,   0],\n",
       "        [ 28,   6,  27],\n",
       "        [  8,  81,  40],\n",
       "        [ 24,  91,  25],\n",
       "        [ 48,  92,  57],\n",
       "        [ 18,   7,  16],\n",
       "        [ 38,   1,  47],\n",
       "        [ 24,  72,  17],\n",
       "        [ 17,  83,  18],\n",
       "        [ 69,  87,  83],\n",
       "        [ 61,  26, 100],\n",
       "        [ 75,  41,  34],\n",
       "        [ 85,  70,  60],\n",
       "        [ 80,  25,  44],\n",
       "        [ 20,  29,  94],\n",
       "        [ 95,  65,  21],\n",
       "        [ 74, 100,  87],\n",
       "        [ 48,  37,  23],\n",
       "        [ 61,  31,  94],\n",
       "        [  3,  95,  33],\n",
       "        [ 15,  60,  21],\n",
       "        [ 12,  61,  75],\n",
       "        [ 31,  81,  46],\n",
       "        [ 15,  53,  41],\n",
       "        [ 22,  46,  41],\n",
       "        [  1,  56,  24],\n",
       "        [ 37,  46,  19],\n",
       "        [ 58,  58,  58],\n",
       "        [ 56,   0,  39],\n",
       "        [ 17,  61,  14]],\n",
       "\n",
       "       [[  5,   8,   3],\n",
       "        [ 58,  73,  23],\n",
       "        [ 46,  93,  65],\n",
       "        [ 88,  22,   6],\n",
       "        [ 47,  65,  85],\n",
       "        [  6,  62,  98],\n",
       "        [ 86,  36,  29],\n",
       "        [ 95,  57,  43],\n",
       "        [ 29,  99,  84],\n",
       "        [ 31,  56,   3],\n",
       "        [ 28,  63,  88],\n",
       "        [ 73,  22,  47],\n",
       "        [ 62,   6,  72],\n",
       "        [ 69,  56,  64],\n",
       "        [ 82,  20,  94],\n",
       "        [ 92,   0,  39],\n",
       "        [ 45,  75,  99],\n",
       "        [ 29,  65,  59],\n",
       "        [ 93,  28,  46],\n",
       "        [ 81,   2,  90],\n",
       "        [ 57,  68,  88],\n",
       "        [ 72,  79,  80],\n",
       "        [ 96,  74,   1],\n",
       "        [ 79,   5,  44],\n",
       "        [ 30,   8,  10],\n",
       "        [ 79,  51,  59],\n",
       "        [ 65,  62,  84],\n",
       "        [ 34,  58,  67],\n",
       "        [ 51,  40,  72],\n",
       "        [ 85,  59,  53]]])"
      ]
     },
     "execution_count": 78,
     "metadata": {},
     "output_type": "execute_result"
    }
   ],
   "source": [
    "all_grades"
   ]
  },
  {
   "cell_type": "code",
   "execution_count": 79,
   "metadata": {},
   "outputs": [],
   "source": [
    "weights1 = [0.20, 0.35, 0.45]\n",
    "weights2 = [0.40, 0.60]"
   ]
  },
  {
   "cell_type": "code",
   "execution_count": 87,
   "metadata": {},
   "outputs": [],
   "source": [
    "def final_result(array):\n",
    "    final_grades = np.array([])\n",
    "    for i in array:\n",
    "        for j in i:\n",
    "            if np.dot(j, weights1) >= np.dot(j[1:3], weights2):\n",
    "                grades = np.dot(j, weights1)\n",
    "            else:\n",
    "                grades = np.dot(j[1:3], weights2)\n",
    "            final_grades = np.append(final_grades, grades)\n",
    "        \n",
    "    final_grades.shape = (3, 30, 1)\n",
    "    return(final_grades)"
   ]
  },
  {
   "cell_type": "code",
   "execution_count": 88,
   "metadata": {},
   "outputs": [
    {
     "data": {
      "text/plain": [
       "array([[[40.85],\n",
       "        [54.4 ],\n",
       "        [52.2 ],\n",
       "        [58.4 ],\n",
       "        [45.  ],\n",
       "        [40.8 ],\n",
       "        [63.6 ],\n",
       "        [39.5 ],\n",
       "        [69.  ],\n",
       "        [46.75],\n",
       "        [51.7 ],\n",
       "        [ 9.75],\n",
       "        [46.45],\n",
       "        [33.2 ],\n",
       "        [88.2 ],\n",
       "        [52.8 ],\n",
       "        [67.2 ],\n",
       "        [24.6 ],\n",
       "        [44.8 ],\n",
       "        [86.2 ],\n",
       "        [63.9 ],\n",
       "        [45.1 ],\n",
       "        [20.25],\n",
       "        [49.65],\n",
       "        [90.8 ],\n",
       "        [75.  ],\n",
       "        [64.5 ],\n",
       "        [14.35],\n",
       "        [71.6 ],\n",
       "        [26.2 ]],\n",
       "\n",
       "       [[32.4 ],\n",
       "        [19.85],\n",
       "        [56.4 ],\n",
       "        [51.4 ],\n",
       "        [71.  ],\n",
       "        [13.25],\n",
       "        [29.1 ],\n",
       "        [39.  ],\n",
       "        [44.  ],\n",
       "        [84.6 ],\n",
       "        [70.4 ],\n",
       "        [44.65],\n",
       "        [68.5 ],\n",
       "        [44.55],\n",
       "        [68.  ],\n",
       "        [51.2 ],\n",
       "        [92.2 ],\n",
       "        [32.9 ],\n",
       "        [68.8 ],\n",
       "        [57.8 ],\n",
       "        [36.6 ],\n",
       "        [69.4 ],\n",
       "        [60.  ],\n",
       "        [45.8 ],\n",
       "        [43.  ],\n",
       "        [36.8 ],\n",
       "        [32.05],\n",
       "        [58.  ],\n",
       "        [28.75],\n",
       "        [32.8 ]],\n",
       "\n",
       "       [[ 5.15],\n",
       "        [47.5 ],\n",
       "        [76.2 ],\n",
       "        [28.  ],\n",
       "        [77.  ],\n",
       "        [83.6 ],\n",
       "        [42.85],\n",
       "        [58.3 ],\n",
       "        [90.  ],\n",
       "        [27.15],\n",
       "        [78.  ],\n",
       "        [43.45],\n",
       "        [46.9 ],\n",
       "        [62.2 ],\n",
       "        [65.7 ],\n",
       "        [35.95],\n",
       "        [89.4 ],\n",
       "        [61.4 ],\n",
       "        [49.1 ],\n",
       "        [57.4 ],\n",
       "        [80.  ],\n",
       "        [79.6 ],\n",
       "        [45.55],\n",
       "        [37.35],\n",
       "        [13.3 ],\n",
       "        [60.2 ],\n",
       "        [75.2 ],\n",
       "        [63.4 ],\n",
       "        [59.2 ],\n",
       "        [61.5 ]]])"
      ]
     },
     "execution_count": 88,
     "metadata": {},
     "output_type": "execute_result"
    }
   ],
   "source": [
    "final_result(all_grades)"
   ]
  },
  {
   "cell_type": "code",
   "execution_count": null,
   "metadata": {},
   "outputs": [],
   "source": []
  },
  {
   "cell_type": "markdown",
   "metadata": {},
   "source": [
    "# 挑戰題二"
   ]
  },
  {
   "cell_type": "code",
   "execution_count": 120,
   "metadata": {},
   "outputs": [],
   "source": [
    "A = np.random.randn(50)"
   ]
  },
  {
   "cell_type": "code",
   "execution_count": 121,
   "metadata": {
    "scrolled": false
   },
   "outputs": [
    {
     "data": {
      "text/plain": [
       "array([[1.27700101, 4.08400185, 6.26048668, 7.46892173, 5.64984456],\n",
       "       [6.29153351, 5.76915775, 4.897965  , 2.54479855, 5.28087935],\n",
       "       [2.10669926, 5.60748632, 1.40615346, 6.95170636, 5.85832191],\n",
       "       [5.50117989, 8.60706961, 1.63702403, 7.01077964, 4.58968049],\n",
       "       [5.64063854, 4.46188184, 4.39026594, 8.99483749, 4.82773595],\n",
       "       [5.21735616, 7.08337668, 7.05399764, 4.73284141, 7.39095293],\n",
       "       [8.69538412, 6.90687441, 4.81226758, 4.75094605, 8.08498813],\n",
       "       [2.49341767, 0.81253295, 2.47039901, 7.04047493, 4.0618511 ],\n",
       "       [3.11295667, 7.47936181, 2.70163684, 4.97141242, 6.20847115],\n",
       "       [6.3395133 , 7.47814666, 5.64455828, 4.87806171, 4.26386235]])"
      ]
     },
     "execution_count": 121,
     "metadata": {},
     "output_type": "execute_result"
    }
   ],
   "source": [
    "A = 2*A + 5\n",
    "A.shape = (10, 5)\n",
    "A"
   ]
  },
  {
   "cell_type": "code",
   "execution_count": 122,
   "metadata": {},
   "outputs": [
    {
     "name": "stdout",
     "output_type": "stream",
     "text": [
      "[[1. 1. 1. 1. 1.]\n",
      " [1. 1. 1. 1. 1.]\n",
      " [1. 1. 1. 1. 1.]\n",
      " [1. 1. 1. 1. 1.]\n",
      " [1. 1. 1. 1. 1.]\n",
      " [1. 1. 1. 1. 1.]\n",
      " [1. 1. 1. 1. 1.]\n",
      " [1. 0. 1. 1. 1.]\n",
      " [1. 1. 1. 1. 1.]\n",
      " [1. 1. 1. 1. 1.]]\n"
     ]
    }
   ],
   "source": [
    "B = np.array([])\n",
    "for i in A:\n",
    "    for j in i:\n",
    "        if (j >= 1):\n",
    "            j = 1\n",
    "        else:\n",
    "            j = 0\n",
    "        B = np.append(B, j)\n",
    "B.shape = (10, 5)\n",
    "print(B)"
   ]
  },
  {
   "cell_type": "code",
   "execution_count": null,
   "metadata": {},
   "outputs": [],
   "source": []
  },
  {
   "cell_type": "markdown",
   "metadata": {},
   "source": [
    "# 挑戰題三："
   ]
  },
  {
   "cell_type": "markdown",
   "metadata": {},
   "source": [
    "### 看看100個人的薪資，\n",
    "### 如果大於等於50k，會報告說我是高富帥，\n",
    "### 低於等於22k會報告說我窮，\n",
    "### 介於50k與22k之間會報告說我是老百姓。\n",
    "\n",
    "### sample distrubution: E(X) = 40000 ; SD(X) = 10000\n",
    "\n",
    "### 也要算出高富帥、窮人、老百姓各有多少人。"
   ]
  },
  {
   "cell_type": "code",
   "execution_count": 133,
   "metadata": {},
   "outputs": [],
   "source": [
    "income = np.random.randn(100)\n",
    "income = 10000*income + 40000"
   ]
  },
  {
   "cell_type": "code",
   "execution_count": 134,
   "metadata": {},
   "outputs": [
    {
     "data": {
      "text/plain": [
       "array([54169.60243917, 50156.79621705, 16217.64557515, 53013.63740881,\n",
       "       46277.26744777, 50310.68473076, 34633.60944919, 37512.41861557,\n",
       "       44868.87370405, 27370.54191392, 49315.57606513, 50386.33878405,\n",
       "       40048.46122058, 28218.55631583, 54516.56643247, 59647.79903203,\n",
       "       49908.41727946, 41193.53798224, 14727.35899627, 47392.64620224,\n",
       "       56006.24000857, 38087.57105349, 41505.80997924, 40102.09604511,\n",
       "       38212.26093998, 39972.54330771, 46929.83414692, 30949.67546562,\n",
       "       55948.64822965, 32097.46157908, 43520.9052848 , 31265.49086556,\n",
       "       28465.89210193, 33936.42715424, 25914.61290203, 46086.78843927,\n",
       "       33776.37605077, 41555.83294558, 33139.15504944, 49994.30568337,\n",
       "       29670.26710452, 48732.797887  , 33955.68432118, 43558.07908456,\n",
       "       42280.51351117, 55164.42010802, 32923.1075422 , 29703.89344792,\n",
       "       45111.84094998, 53874.13957271, 30235.71279978, 48212.05516503,\n",
       "       53401.94856018, 42737.71862242, 49591.3114224 , 42075.14435189,\n",
       "       38779.61354312, 46577.14062881, 37929.26449076, 52531.80875839,\n",
       "       23963.44399574, 37811.36661382, 40873.24228226, 34962.05460339,\n",
       "       30840.02093428, 48384.41129918, 40654.64474118, 24461.24361737,\n",
       "       42875.36492457, 43865.91320546, 40163.6614485 , 41483.49668849,\n",
       "       39117.18770954, 38648.30532499, 22158.0414688 , 39069.23004624,\n",
       "       44872.90982091, 43772.51431284, 42028.88914459, 46322.79393635,\n",
       "       38278.93965499, 25811.5636296 , 40291.41721653, 43917.3535719 ,\n",
       "       30312.64232525, 55967.7457364 , 33950.00938807, 51595.13527637,\n",
       "       40206.45813492, 49627.4225044 , 52193.12493064, 53306.16294165,\n",
       "       27863.75823058, 44191.42828472, 36344.99350791, 51814.51429414,\n",
       "       40402.44228881, 38730.00951338, 36080.0495063 , 34129.30534837])"
      ]
     },
     "execution_count": 134,
     "metadata": {},
     "output_type": "execute_result"
    }
   ],
   "source": [
    "income"
   ]
  },
  {
   "cell_type": "code",
   "execution_count": 135,
   "metadata": {},
   "outputs": [
    {
     "data": {
      "text/plain": [
       "array([['我是高富帥', '我是高富帥', '我窮', '我是高富帥', '我是老百姓'],\n",
       "       ['我是高富帥', '我是老百姓', '我是老百姓', '我是老百姓', '我是老百姓'],\n",
       "       ['我是老百姓', '我是高富帥', '我是老百姓', '我是老百姓', '我是高富帥'],\n",
       "       ['我是高富帥', '我是老百姓', '我是老百姓', '我窮', '我是老百姓'],\n",
       "       ['我是高富帥', '我是老百姓', '我是老百姓', '我是老百姓', '我是老百姓'],\n",
       "       ['我是老百姓', '我是老百姓', '我是老百姓', '我是高富帥', '我是老百姓'],\n",
       "       ['我是老百姓', '我是老百姓', '我是老百姓', '我是老百姓', '我是老百姓'],\n",
       "       ['我是老百姓', '我是老百姓', '我是老百姓', '我是老百姓', '我是老百姓'],\n",
       "       ['我是老百姓', '我是老百姓', '我是老百姓', '我是老百姓', '我是老百姓'],\n",
       "       ['我是高富帥', '我是老百姓', '我是老百姓', '我是老百姓', '我是高富帥'],\n",
       "       ['我是老百姓', '我是老百姓', '我是高富帥', '我是老百姓', '我是老百姓'],\n",
       "       ['我是老百姓', '我是老百姓', '我是老百姓', '我是老百姓', '我是高富帥'],\n",
       "       ['我是老百姓', '我是老百姓', '我是老百姓', '我是老百姓', '我是老百姓'],\n",
       "       ['我是老百姓', '我是老百姓', '我是老百姓', '我是老百姓', '我是老百姓'],\n",
       "       ['我是老百姓', '我是老百姓', '我是老百姓', '我是老百姓', '我是老百姓'],\n",
       "       ['我是老百姓', '我是老百姓', '我是老百姓', '我是老百姓', '我是老百姓'],\n",
       "       ['我是老百姓', '我是老百姓', '我是老百姓', '我是老百姓', '我是老百姓'],\n",
       "       ['我是高富帥', '我是老百姓', '我是高富帥', '我是老百姓', '我是老百姓'],\n",
       "       ['我是高富帥', '我是高富帥', '我是老百姓', '我是老百姓', '我是老百姓'],\n",
       "       ['我是高富帥', '我是老百姓', '我是老百姓', '我是老百姓', '我是老百姓']], dtype='<U32')"
      ]
     },
     "execution_count": 135,
     "metadata": {},
     "output_type": "execute_result"
    }
   ],
   "source": [
    "report = np.array([])\n",
    "for i in income:\n",
    "    if i>=50000:\n",
    "        W = np.array([\"我是高富帥\"])\n",
    "    elif i<=22000:\n",
    "        W = np.array([\"我窮\"])\n",
    "    else:\n",
    "        W = np.array([\"我是老百姓\"])\n",
    "    report = np.append(report, W)\n",
    "report.shape = (20, 5)\n",
    "report"
   ]
  },
  {
   "cell_type": "code",
   "execution_count": 148,
   "metadata": {},
   "outputs": [
    {
     "data": {
      "text/plain": [
       "18"
      ]
     },
     "execution_count": 148,
     "metadata": {},
     "output_type": "execute_result"
    }
   ],
   "source": [
    "np.sum(report == \"我是高富帥\")"
   ]
  },
  {
   "cell_type": "code",
   "execution_count": 149,
   "metadata": {},
   "outputs": [
    {
     "data": {
      "text/plain": [
       "2"
      ]
     },
     "execution_count": 149,
     "metadata": {},
     "output_type": "execute_result"
    }
   ],
   "source": [
    "np.sum(report == \"我窮\")"
   ]
  },
  {
   "cell_type": "code",
   "execution_count": 150,
   "metadata": {},
   "outputs": [
    {
     "data": {
      "text/plain": [
       "80"
      ]
     },
     "execution_count": 150,
     "metadata": {},
     "output_type": "execute_result"
    }
   ],
   "source": [
    "np.sum(report == \"我是老百姓\")"
   ]
  },
  {
   "cell_type": "code",
   "execution_count": null,
   "metadata": {},
   "outputs": [],
   "source": []
  }
 ],
 "metadata": {
  "kernelspec": {
   "display_name": "Python 3",
   "language": "python",
   "name": "python3"
  },
  "language_info": {
   "codemirror_mode": {
    "name": "ipython",
    "version": 3
   },
   "file_extension": ".py",
   "mimetype": "text/x-python",
   "name": "python",
   "nbconvert_exporter": "python",
   "pygments_lexer": "ipython3",
   "version": "3.7.6"
  }
 },
 "nbformat": 4,
 "nbformat_minor": 4
}
